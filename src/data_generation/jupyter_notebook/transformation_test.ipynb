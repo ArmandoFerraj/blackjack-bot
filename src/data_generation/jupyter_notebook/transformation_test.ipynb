{
 "cells": [
  {
   "cell_type": "markdown",
   "metadata": {},
   "source": [
    "## synthetic data generation test\n",
    "In this notebook we will explore the different visual transformations we want to apply to our raw images to create a diverse synthetic training dataset. In practice we will be performing a composition of transformations, but for now we will demonstrate how to use them one at a time.\n",
    "\n",
    "The transformations are:\n",
    "- blur\n",
    "- contrast\n",
    "- noise\n",
    "- background crop\n",
    "- 2d rotation"
   ]
  },
  {
   "cell_type": "markdown",
   "metadata": {},
   "source": [
    "## Load Image:\n",
    "- pick a random card from our raw images folder"
   ]
  },
  {
   "cell_type": "code",
   "execution_count": 1,
   "metadata": {},
   "outputs": [],
   "source": [
    "import os\n",
    "import cv2\n",
    "import numpy as np\n",
    "\n",
    "img_path = \"../../../data/raw/7c.jpg\" # path to image \n",
    "path = os.path.abspath(img_path)\n",
    "\n",
    "img = cv2.imread(path) # load image\n"
   ]
  },
  {
   "cell_type": "markdown",
   "metadata": {},
   "source": [
    "## Blur Transformation:\n",
    "- The blur parameters should be odd numbers.\n",
    "- The first two parametrs will be random ODD values between 1-51\n",
    "- The third parameter should be left as 0."
   ]
  },
  {
   "cell_type": "code",
   "execution_count": 2,
   "metadata": {},
   "outputs": [
    {
     "data": {
      "text/plain": [
       "True"
      ]
     },
     "execution_count": 2,
     "metadata": {},
     "output_type": "execute_result"
    }
   ],
   "source": [
    "blurred = cv2.GaussianBlur(img, (37, 37), 0) \n",
    "cv2.imwrite(\"blur_test.jpg\", blurred)"
   ]
  },
  {
   "cell_type": "markdown",
   "metadata": {},
   "source": [
    "## Contrast Transformation:\n",
    "- alpha > 1 increases, < 1 decreases \n",
    "- we want to generate a random alpha value between .5 to 2.5"
   ]
  },
  {
   "cell_type": "code",
   "execution_count": 3,
   "metadata": {},
   "outputs": [
    {
     "data": {
      "text/plain": [
       "True"
      ]
     },
     "execution_count": 3,
     "metadata": {},
     "output_type": "execute_result"
    }
   ],
   "source": [
    "alpha = 1.6\n",
    "contrast_img = cv2.convertScaleAbs(img, alpha=alpha)\n",
    "cv2.imwrite(\"contrast_test.jpg\", contrast_img)\n",
    "\n"
   ]
  },
  {
   "cell_type": "markdown",
   "metadata": {},
   "source": [
    "## Noise Transformation:\n",
    " - First parameter is mean and should equal 0\n",
    " - Second parameter is standard deviation and should be a random value between 0 - 5\n"
   ]
  },
  {
   "cell_type": "code",
   "execution_count": 4,
   "metadata": {},
   "outputs": [
    {
     "data": {
      "text/plain": [
       "True"
      ]
     },
     "execution_count": 4,
     "metadata": {},
     "output_type": "execute_result"
    }
   ],
   "source": [
    "noise = np.random.normal(0, 5, img.shape).astype(np.uint8) \n",
    "noisy_img = cv2.add(img, noise)\n",
    "cv2.imwrite(\"noise_test.jpg\", noisy_img)"
   ]
  },
  {
   "cell_type": "markdown",
   "metadata": {},
   "source": [
    "## Background Crop\n",
    "- We will need a card.jpg image and a background.jpg image\n",
    "- We need to make sure both images have the same size\n",
    "- We need to create a mask over the card in order to change the background\n",
    "    - We can use the bounding box coordinates for the card's outline to construct a mask"
   ]
  },
  {
   "cell_type": "code",
   "execution_count": 5,
   "metadata": {},
   "outputs": [],
   "source": [
    "#Load the background image\n",
    "bg_path_str = \"../backgrounds/bg.jpg\"\n",
    "bg_path = os.path.abspath(bg_path_str)\n",
    "bg = cv2.imread(bg_path)"
   ]
  },
  {
   "cell_type": "code",
   "execution_count": 6,
   "metadata": {},
   "outputs": [
    {
     "data": {
      "text/plain": [
       "True"
      ]
     },
     "execution_count": 6,
     "metadata": {},
     "output_type": "execute_result"
    }
   ],
   "source": [
    "\n",
    "h, w = img.shape[:2]\n",
    "class_id, x_cent, y_cent, box_w, box_h = 0, 0.49921875, 0.4859375, 0.57421875, 0.7265625\n",
    "\n",
    "x_min = int((x_cent - box_w / 2) * w)\n",
    "x_max = int((x_cent + box_w / 2) * w)\n",
    "y_min = int((y_cent - box_h / 2) * h)\n",
    "y_max = int((y_cent + box_h / 2) * h)\n",
    "\n",
    "mask = np.zeros_like(img, dtype=np.uint8)\n",
    "mask[y_min:y_max, x_min:x_max] = 255\n",
    "\n",
    "# bg = cv2.imread(\"backgrounds/bg.jpg\")\n",
    "bg = cv2.resize(bg, (w, h))\n",
    "result = np.where(mask == 255, img, bg)\n",
    "\n",
    "cv2.imwrite(\"bg_test.jpg\", result)"
   ]
  },
  {
   "cell_type": "markdown",
   "metadata": {},
   "source": [
    "## Rotation Transform:\n",
    "- uses the 2D transformatin matrix\n",
    "- generates a random theta value for the matrix\n",
    "- rotates around the center of the image"
   ]
  },
  {
   "cell_type": "code",
   "execution_count": 7,
   "metadata": {},
   "outputs": [
    {
     "name": "stdout",
     "output_type": "stream",
     "text": [
      "Theta: 36.86155630521881\n"
     ]
    }
   ],
   "source": [
    "h, w = img.shape[:2]  # 2061, 1940\n",
    "\n",
    "\n",
    "# Random rotation angle\n",
    "theta = np.random.uniform(-45, 45)\n",
    "center = (w // 2, h // 2)\n",
    "M = cv2.getRotationMatrix2D(center, theta, 1.0)\n",
    "\n",
    "# Rotate image\n",
    "rotated_img = cv2.warpAffine(img, M, (w, h))\n",
    "cv2.imwrite(\"rotated_test.jpg\", rotated_img)\n",
    "print(f\"Theta: {theta}\")"
   ]
  }
 ],
 "metadata": {
  "kernelspec": {
   "display_name": "Python 3",
   "language": "python",
   "name": "python3"
  },
  "language_info": {
   "codemirror_mode": {
    "name": "ipython",
    "version": 3
   },
   "file_extension": ".py",
   "mimetype": "text/x-python",
   "name": "python",
   "nbconvert_exporter": "python",
   "pygments_lexer": "ipython3",
   "version": "3.11.8"
  }
 },
 "nbformat": 4,
 "nbformat_minor": 2
}
